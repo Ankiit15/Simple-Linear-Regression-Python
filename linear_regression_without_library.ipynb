{
 "cells": [
  {
   "cell_type": "code",
   "execution_count": null,
   "metadata": {},
   "outputs": [],
   "source": [
    "#Columns = no. of features\n",
    "\n",
    "def ini_para(columns):\n",
    "    w = np.zeros((1,columns))\n",
    "    b = 0\n",
    "    return w,b\n",
    "\n",
    "def forward_prop(w,b,X):\n",
    "    z = np.dot(w,X) + b\n",
    "    return z\n",
    "\n",
    "def loss_function(z,y,rows):\n",
    "    L = (1/rows)*np.sum(np.square(z-y))\n",
    "    return L\n",
    "\n",
    "def back_prop(z,y,X):\n",
    "    \n",
    "    dw = 2*np.dot((z-y),X.T)\n",
    "    db = 2*np.sum((z-y))\n",
    "    return dw,db\n",
    "\n",
    "def update_val(w,b,dw,db,learning_rate):\n",
    "    w = w - learning_rate*dw\n",
    "    b = b - learning_rate*db\n",
    "    return w,b"
   ]
  },
  {
   "cell_type": "code",
   "execution_count": null,
   "metadata": {},
   "outputs": [],
   "source": [
    "#training data\n",
    "\n",
    "def train_modellinear(X,y,learning_rate,epochs):\n",
    "    losses = []\n",
    "    ite = []\n",
    "    rows = y.shape[1]  \n",
    "    w,b = ini_para(X.shape[0])\n",
    "    for i in range(1,epochs+1):\n",
    "        z = forward_prop(w,b,X)\n",
    "        if (i>=50 and i%50 == 0):\n",
    "            ite.append(i)\n",
    "            L = loss_function(z,y,rows)\n",
    "            print(i,L)\n",
    "            losses.append(L)\n",
    "        dw,db = back_prop(z,y,X)\n",
    "        w,b = update_val(w,b,dw,db,learning_rate)\n",
    "        \n",
    "    return w,b,losses,ite"
   ]
  },
  {
   "cell_type": "code",
   "execution_count": null,
   "metadata": {},
   "outputs": [],
   "source": [
    "X2 = X_train.T\n",
    "y2 = y_train.T\n",
    "\n",
    "w,b,losses,ite = train_modellinear(X2,y2,learning_rate = 0.001,epochs = 1000)\n",
    "plt.figure(figsize = (10,4))\n",
    "plt.title('Epochs vs Loss')\n",
    "plt.xlabel('Epochs')\n",
    "plt.ylabel('Loss value')\n",
    "plt.plot(ite,losses)\n",
    "plt.show()"
   ]
  },
  {
   "cell_type": "code",
   "execution_count": null,
   "metadata": {},
   "outputs": [],
   "source": [
    "# finding the prediction from our model\n",
    "X_t = X_test.T\n",
    "y_pred1 = np.dot(w,X_t)+b\n",
    "y_pred1 = y_pred1.T"
   ]
  },
  {
   "cell_type": "code",
   "execution_count": null,
   "metadata": {},
   "outputs": [],
   "source": []
  }
 ],
 "metadata": {
  "kernelspec": {
   "display_name": "Python 3",
   "language": "python",
   "name": "python3"
  },
  "language_info": {
   "codemirror_mode": {
    "name": "ipython",
    "version": 3
   },
   "file_extension": ".py",
   "mimetype": "text/x-python",
   "name": "python",
   "nbconvert_exporter": "python",
   "pygments_lexer": "ipython3",
   "version": "3.7.4"
  }
 },
 "nbformat": 4,
 "nbformat_minor": 2
}
